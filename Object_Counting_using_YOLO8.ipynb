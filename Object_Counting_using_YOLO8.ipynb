{
  "nbformat": 4,
  "nbformat_minor": 0,
  "metadata": {
    "colab": {
      "provenance": []
    },
    "kernelspec": {
      "name": "python3",
      "display_name": "Python 3"
    },
    "language_info": {
      "name": "python"
    }
  },
  "cells": [
    {
      "cell_type": "markdown",
      "source": [],
      "metadata": {
        "id": "49dJCfyM8Cpc"
      }
    },
    {
      "cell_type": "code",
      "source": [
        "!nvidia-smi\n"
      ],
      "metadata": {
        "colab": {
          "base_uri": "https://localhost:8080/"
        },
        "id": "qRaj2puUmpTu",
        "outputId": "9aa66f6d-a9c5-4ff8-dcd4-9086f102332e"
      },
      "execution_count": null,
      "outputs": [
        {
          "output_type": "stream",
          "name": "stdout",
          "text": [
            "/bin/bash: line 1: nvidia-smi: command not found\n"
          ]
        }
      ]
    },
    {
      "cell_type": "code",
      "source": [
        "!pip install ultralytics\n",
        "\n",
        "from IPython import display\n",
        "display.clear_output()\n",
        "\n",
        "import ultralytics"
      ],
      "metadata": {
        "id": "Jiuzvpn6mtcl"
      },
      "execution_count": null,
      "outputs": []
    },
    {
      "cell_type": "code",
      "source": [
        "MODEL = \"yolov8x.pt\"\n",
        "from ultralytics import YOLO\n",
        "\n",
        "model = YOLO(MODEL)\n",
        "model.fuse()"
      ],
      "metadata": {
        "colab": {
          "base_uri": "https://localhost:8080/"
        },
        "id": "g48dZyuhmv86",
        "outputId": "c0f57627-9000-4563-e186-dc066895c36b"
      },
      "execution_count": null,
      "outputs": [
        {
          "output_type": "stream",
          "name": "stdout",
          "text": [
            "Downloading https://github.com/ultralytics/assets/releases/download/v8.1.0/yolov8x.pt to 'yolov8x.pt'...\n"
          ]
        },
        {
          "output_type": "stream",
          "name": "stderr",
          "text": [
            "100%|██████████| 131M/131M [00:00<00:00, 223MB/s]\n"
          ]
        },
        {
          "output_type": "stream",
          "name": "stdout",
          "text": [
            "YOLOv8x summary (fused): 268 layers, 68200608 parameters, 0 gradients, 257.8 GFLOPs\n"
          ]
        }
      ]
    },
    {
      "cell_type": "code",
      "source": [
        "!yolo task=detect mode=predict model=yolov8x.pt conf=0.25 source={\"/content/stret1.mp4\"}\n"
      ],
      "metadata": {
        "colab": {
          "base_uri": "https://localhost:8080/"
        },
        "id": "-RjuttRxmyyJ",
        "outputId": "edabb7c7-58ee-41bc-a7a2-9399ef247625"
      },
      "execution_count": null,
      "outputs": [
        {
          "output_type": "stream",
          "name": "stdout",
          "text": [
            "Ultralytics YOLOv8.1.27 🚀 Python-3.10.12 torch-2.1.0+cu121 CPU (Intel Xeon 2.20GHz)\n",
            "YOLOv8x summary (fused): 268 layers, 68200608 parameters, 0 gradients, 257.8 GFLOPs\n",
            "\n",
            "Traceback (most recent call last):\n",
            "  File \"/usr/local/bin/yolo\", line 8, in <module>\n",
            "    sys.exit(entrypoint())\n",
            "  File \"/usr/local/lib/python3.10/dist-packages/ultralytics/cfg/__init__.py\", line 568, in entrypoint\n",
            "    getattr(model, mode)(**overrides)  # default args from model\n",
            "  File \"/usr/local/lib/python3.10/dist-packages/ultralytics/engine/model.py\", line 439, in predict\n",
            "    return self.predictor.predict_cli(source=source) if is_cli else self.predictor(source=source, stream=stream)\n",
            "  File \"/usr/local/lib/python3.10/dist-packages/ultralytics/engine/predictor.py\", line 177, in predict_cli\n",
            "    for _ in gen:  # noqa, running CLI inference without accumulating any outputs (do not modify)\n",
            "  File \"/usr/local/lib/python3.10/dist-packages/torch/utils/_contextlib.py\", line 35, in generator_context\n",
            "    response = gen.send(None)\n",
            "  File \"/usr/local/lib/python3.10/dist-packages/ultralytics/engine/predictor.py\", line 220, in stream_inference\n",
            "    self.setup_source(source if source is not None else self.args.source)\n",
            "  File \"/usr/local/lib/python3.10/dist-packages/ultralytics/engine/predictor.py\", line 192, in setup_source\n",
            "    self.dataset = load_inference_source(\n",
            "  File \"/usr/local/lib/python3.10/dist-packages/ultralytics/data/build.py\", line 181, in load_inference_source\n",
            "    dataset = LoadImagesAndVideos(source, batch=batch, vid_stride=vid_stride)\n",
            "  File \"/usr/local/lib/python3.10/dist-packages/ultralytics/data/loaders.py\", line 292, in __init__\n",
            "    raise FileNotFoundError(f\"{p} does not exist\")\n",
            "FileNotFoundError: /content/stret1.mp4 does not exist\n"
          ]
        }
      ]
    },
    {
      "cell_type": "code",
      "source": [
        "# dict maping class_id to class_name\n",
        "CLASS_NAMES_DICT = model.model.names\n",
        "# class_ids of interest - car, motorcycle, bus and truck\n",
        "CLASS_ID = [0,1,2, 3, 5, 7,9]"
      ],
      "metadata": {
        "id": "ilUM45v-m5PV"
      },
      "execution_count": null,
      "outputs": []
    },
    {
      "cell_type": "code",
      "source": [
        "!pip install supervision\n",
        "\n",
        "\n",
        "from IPython import display\n",
        "display.clear_output()\n",
        "\n",
        "\n",
        "import supervision\n",
        "print(\"supervision.__version__:\", supervision.__version__)"
      ],
      "metadata": {
        "colab": {
          "base_uri": "https://localhost:8080/"
        },
        "id": "V7Q988h7m7wM",
        "outputId": "cbc488af-6920-466f-8dcb-e2e407e68d84"
      },
      "execution_count": null,
      "outputs": [
        {
          "output_type": "stream",
          "name": "stdout",
          "text": [
            "supervision.__version__: 0.18.0\n"
          ]
        }
      ]
    },
    {
      "cell_type": "code",
      "source": [
        "import supervision as sv\n",
        "import numpy as np\n",
        "from ultralytics import YOLO\n",
        "import cv2\n",
        "\n",
        "# Define the model and tracker\n",
        "MODEL = \"yolov8x.pt\"\n",
        "model = YOLO(MODEL)\n",
        "tracker = sv.ByteTrack()\n",
        "\n",
        "\n",
        "#Defining line co-ordinates for counting objects crossing the line\n",
        "LINE_START = sv.Point(20, 400)\n",
        "LINE_END = sv.Point(1080, 400)\n",
        "\n",
        "\n",
        "#Initialize Line Annotator with custom thickness and font size\n",
        "line_zone = sv.LineZone(start=LINE_START , end=LINE_END)\n",
        "line_annotator = sv.LineZoneAnnotator(thickness=1, text_thickness=2, text_scale=2)\n",
        "\n",
        "# Define the callback function\n",
        "def callback(frame: np.ndarray, index: int) -> np.ndarray:\n",
        "\n",
        "    # Perform object detection\n",
        "    results = model(frame)[0]\n",
        "    detections = sv.Detections.from_ultralytics(results)\n",
        "\n",
        "    # Update tracker with detections\n",
        "    detections = tracker.update_with_detections(detections)\n",
        "\n",
        "\n",
        "    # Extract labels for annotations\n",
        "    labels = []\n",
        "    for tracker_id, class_id in zip(detections.tracker_id, detections.class_id):\n",
        "        class_name = CLASS_NAMES_DICT[class_id]\n",
        "        labels.append(f\"#{tracker_id} - {class_name}\")\n",
        "\n",
        "\n",
        "\n",
        "    #Draw the Line\n",
        "    line_annotator.annotate(line_zone)\n",
        "\n",
        "    #Trigger the Line Annotation for Updating Counter\n",
        "    line_zone.trigger(detections=detections)\n",
        "\n",
        "\n",
        "# Process the video\n",
        "sv.process_video(\n",
        "    source_path=\"/content/street1.mp4\",\n",
        "    target_path=\"/content/final_result.mp4\",\n",
        "    callback=callback\n",
        ")"
      ],
      "metadata": {
        "colab": {
          "base_uri": "https://localhost:8080/",
          "height": 408
        },
        "id": "aYa5HyXZm-ob",
        "outputId": "bb3593af-2860-46e5-c23f-40331cd808f4"
      },
      "execution_count": null,
      "outputs": [
        {
          "output_type": "stream",
          "name": "stdout",
          "text": [
            "\n",
            "0: 640x512 15 cars, 1 truck, 1 clock, 3618.2ms\n",
            "Speed: 5.4ms preprocess, 3618.2ms inference, 7.9ms postprocess per image at shape (1, 3, 640, 512)\n"
          ]
        },
        {
          "output_type": "error",
          "ename": "TypeError",
          "evalue": "LineZoneAnnotator.annotate() missing 1 required positional argument: 'line_counter'",
          "traceback": [
            "\u001b[0;31m---------------------------------------------------------------------------\u001b[0m",
            "\u001b[0;31mTypeError\u001b[0m                                 Traceback (most recent call last)",
            "\u001b[0;32m<ipython-input-8-c0a41aa2a96b>\u001b[0m in \u001b[0;36m<cell line: 48>\u001b[0;34m()\u001b[0m\n\u001b[1;32m     46\u001b[0m \u001b[0;34m\u001b[0m\u001b[0m\n\u001b[1;32m     47\u001b[0m \u001b[0;31m# Process the video\u001b[0m\u001b[0;34m\u001b[0m\u001b[0;34m\u001b[0m\u001b[0m\n\u001b[0;32m---> 48\u001b[0;31m sv.process_video(\n\u001b[0m\u001b[1;32m     49\u001b[0m     \u001b[0msource_path\u001b[0m\u001b[0;34m=\u001b[0m\u001b[0;34m\"/content/street1.mp4\"\u001b[0m\u001b[0;34m,\u001b[0m\u001b[0;34m\u001b[0m\u001b[0;34m\u001b[0m\u001b[0m\n\u001b[1;32m     50\u001b[0m     \u001b[0mtarget_path\u001b[0m\u001b[0;34m=\u001b[0m\u001b[0;34m\"/content/final_result.mp4\"\u001b[0m\u001b[0;34m,\u001b[0m\u001b[0;34m\u001b[0m\u001b[0;34m\u001b[0m\u001b[0m\n",
            "\u001b[0;32m/usr/local/lib/python3.10/dist-packages/supervision/utils/video.py\u001b[0m in \u001b[0;36mprocess_video\u001b[0;34m(source_path, target_path, callback)\u001b[0m\n\u001b[1;32m    201\u001b[0m             \u001b[0mget_video_frames_generator\u001b[0m\u001b[0;34m(\u001b[0m\u001b[0msource_path\u001b[0m\u001b[0;34m=\u001b[0m\u001b[0msource_path\u001b[0m\u001b[0;34m)\u001b[0m\u001b[0;34m\u001b[0m\u001b[0;34m\u001b[0m\u001b[0m\n\u001b[1;32m    202\u001b[0m         ):\n\u001b[0;32m--> 203\u001b[0;31m             \u001b[0mresult_frame\u001b[0m \u001b[0;34m=\u001b[0m \u001b[0mcallback\u001b[0m\u001b[0;34m(\u001b[0m\u001b[0mframe\u001b[0m\u001b[0;34m,\u001b[0m \u001b[0mindex\u001b[0m\u001b[0;34m)\u001b[0m\u001b[0;34m\u001b[0m\u001b[0;34m\u001b[0m\u001b[0m\n\u001b[0m\u001b[1;32m    204\u001b[0m             \u001b[0msink\u001b[0m\u001b[0;34m.\u001b[0m\u001b[0mwrite_frame\u001b[0m\u001b[0;34m(\u001b[0m\u001b[0mframe\u001b[0m\u001b[0;34m=\u001b[0m\u001b[0mresult_frame\u001b[0m\u001b[0;34m)\u001b[0m\u001b[0;34m\u001b[0m\u001b[0;34m\u001b[0m\u001b[0m\n\u001b[1;32m    205\u001b[0m \u001b[0;34m\u001b[0m\u001b[0m\n",
            "\u001b[0;32m<ipython-input-8-c0a41aa2a96b>\u001b[0m in \u001b[0;36mcallback\u001b[0;34m(frame, index)\u001b[0m\n\u001b[1;32m     39\u001b[0m \u001b[0;34m\u001b[0m\u001b[0m\n\u001b[1;32m     40\u001b[0m     \u001b[0;31m#Draw the Line\u001b[0m\u001b[0;34m\u001b[0m\u001b[0;34m\u001b[0m\u001b[0m\n\u001b[0;32m---> 41\u001b[0;31m     \u001b[0mline_annotator\u001b[0m\u001b[0;34m.\u001b[0m\u001b[0mannotate\u001b[0m\u001b[0;34m(\u001b[0m\u001b[0mline_zone\u001b[0m\u001b[0;34m)\u001b[0m\u001b[0;34m\u001b[0m\u001b[0;34m\u001b[0m\u001b[0m\n\u001b[0m\u001b[1;32m     42\u001b[0m \u001b[0;34m\u001b[0m\u001b[0m\n\u001b[1;32m     43\u001b[0m     \u001b[0;31m#Trigger the Line Annotation for Updating Counter\u001b[0m\u001b[0;34m\u001b[0m\u001b[0;34m\u001b[0m\u001b[0m\n",
            "\u001b[0;31mTypeError\u001b[0m: LineZoneAnnotator.annotate() missing 1 required positional argument: 'line_counter'"
          ]
        }
      ]
    },
    {
      "cell_type": "code",
      "source": [
        "video_info = sv.VideoInfo.from_video_path(video_path='/content/final_result.mp4')\n",
        "video_info"
      ],
      "metadata": {
        "colab": {
          "base_uri": "https://localhost:8080/"
        },
        "id": "2UXeZpF_nGL5",
        "outputId": "b49ac497-e258-4aea-b913-5f53f058f07a"
      },
      "execution_count": null,
      "outputs": [
        {
          "output_type": "execute_result",
          "data": {
            "text/plain": [
              "VideoInfo(width=672, height=884, fps=60, total_frames=391)"
            ]
          },
          "metadata": {},
          "execution_count": 12
        }
      ]
    }
  ]
}